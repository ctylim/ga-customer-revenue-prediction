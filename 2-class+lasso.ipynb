{
 "cells": [
  {
   "cell_type": "code",
   "execution_count": 3,
   "metadata": {},
   "outputs": [
    {
     "name": "stdout",
     "output_type": "stream",
     "text": [
      "column skipped (cardinality = 1): device.mobileDeviceInfo\n",
      "column skipped (cardinality = 1): device.browserVersion\n",
      "column skipped (cardinality = 1): totals.visits\n",
      "column skipped (cardinality = 1): geoNetwork.networkLocation\n",
      "column skipped (cardinality = 1): device.screenResolution\n",
      "column skipped (cardinality = 1): geoNetwork.longitude\n",
      "column skipped (cardinality = 1): geoNetwork.latitude\n",
      "column skipped (cardinality = 1): device.flashVersion\n",
      "column skipped (cardinality = 1): device.language\n",
      "column skipped (cardinality = 1): trafficSource.adwordsClickInfo.criteriaParameters\n",
      "column skipped (cardinality = 1): device.screenColors\n",
      "column skipped (cardinality = 1): device.mobileDeviceModel\n",
      "column skipped (cardinality = 1): socialEngagementType\n",
      "column skipped (cardinality = 1): device.operatingSystemVersion\n",
      "column skipped (cardinality = 1): device.mobileInputSelector\n",
      "column skipped (cardinality = 1): device.mobileDeviceBranding\n",
      "column skipped (cardinality = 1): geoNetwork.cityId\n",
      "column skipped (cardinality = 1): device.browserSize\n",
      "column skipped (cardinality = 1): device.mobileDeviceMarketingName\n"
     ]
    }
   ],
   "source": [
    "%matplotlib inline\n",
    "import warnings\n",
    "warnings.filterwarnings(action='ignore')\n",
    "import pandas as pd\n",
    "import numpy as np\n",
    "import tensorflow as tf\n",
    "import tensorflow.feature_column as fc \n",
    "import tensorflow.debugging as tfdbg\n",
    "from sklearn.model_selection import train_test_split\n",
    "\n",
    "df = pd.read_csv(\"data/train.flat.csv\", dtype={'fullVisitorId': 'str', 'visitId': 'str'})\n",
    "df_t = pd.read_csv(\"data/test.flat.csv\", dtype={'fullVisitorId': 'str', 'visitId': 'str'})\n",
    "for col in df.columns:\n",
    "#     print(col, df[col].fillna('').nunique())\n",
    "    if df[col].fillna('').nunique() == 1:\n",
    "        print(\"column skipped (cardinality = 1):\", col)\n",
    "        df = df.drop(col, axis=1)"
   ]
  },
  {
   "cell_type": "code",
   "execution_count": 225,
   "metadata": {
    "scrolled": true
   },
   "outputs": [
    {
     "data": {
      "text/plain": [
       "<matplotlib.axes._subplots.AxesSubplot at 0x13eacc668>"
      ]
     },
     "execution_count": 225,
     "metadata": {},
     "output_type": "execute_result"
    },
    {
     "data": {
      "image/png": "[encoded data removed]",
      "text/plain": [
       "<Figure size 432x288 with 1 Axes>"
      ]
     },
     "metadata": {
      "needs_background": "light"
     },
     "output_type": "display_data"
    }
   ],
   "source": [
    "(np.log(df['totals.transactionRevenue'].dropna() +1)).hist()"
   ]
  },
  {
   "cell_type": "code",
   "execution_count": 4,
   "metadata": {},
   "outputs": [],
   "source": [
    "df['totals.transactionRevenue'] = df['totals.transactionRevenue'].fillna(0)"
   ]
  },
  {
   "cell_type": "code",
   "execution_count": 5,
   "metadata": {},
   "outputs": [],
   "source": [
    "sdf = pd.DataFrame()\n",
    "sdf_t = pd.DataFrame()\n",
    "features = []\n",
    "\n",
    "# boolean\n",
    "for col in ['trafficSource.isTrueDirect', 'trafficSource.adwordsClickInfo.isVideoAd', 'device.isMobile', 'totals.newVisits']:\n",
    "    sdf[col] = df[col].apply(lambda x: 2 if np.isnan(x) else int(x))\n",
    "    sdf_t[col] = df_t[col].apply(lambda x: 2 if np.isnan(x) else int(x))\n",
    "    features.append(fc.indicator_column(fc.categorical_column_with_vocabulary_list(col, (0,1,2))))\n",
    "        \n",
    "# numeric\n",
    "for col in ['visitNumber', 'visitStartTime', 'date', 'totals.hits', 'totals.pageviews']:\n",
    "    minv = df[col].min()\n",
    "    maxv = df[col].max()\n",
    "    sdf[col] = df[col].apply(lambda x: (x-minv)/maxv).fillna(0)\n",
    "    sdf_t[col] = df_t[col].apply(lambda x: (x-minv)/maxv).fillna(0)\n",
    "    features.append(fc.numeric_column(col))\n",
    "\n",
    "    \n",
    "from sklearn.preprocessing import LabelEncoder\n",
    "    \n",
    "# string\n",
    "for col in [\n",
    "    'trafficSource.adwordsClickInfo.adNetworkType',\n",
    "    'trafficSource.adwordsClickInfo.page',\n",
    "    'channelGrouping',\n",
    "    'geoNetwork.region',\n",
    "    'geoNetwork.country',\n",
    "    'geoNetwork.metro',\n",
    "    'trafficSource.campaign',\n",
    "    'totals.bounces',\n",
    "    #'trafficSource.referralPath',\n",
    "    'device.deviceCategory',\n",
    "    'device.browser',\n",
    "    'trafficSource.adContent',\n",
    "    'trafficSource.medium',\n",
    "    'geoNetwork.city',\n",
    "    'trafficSource.source',\n",
    "    'trafficSource.adwordsClickInfo.slot',\n",
    "    'fullVisitorId',\n",
    "    'geoNetwork.subContinent',\n",
    "    'device.operatingSystem',\n",
    "    #'geoNetwork.networkDomain',\n",
    "    'trafficSource.adwordsClickInfo.gclId',\n",
    "#     'trafficSource.campaignCode', // not exist in test\n",
    "    'trafficSource.keyword',\n",
    "    'geoNetwork.continent']:\n",
    "    le = LabelEncoder()\n",
    "    le.fit(pd.concat([df[col].astype(str).fillna(''), df_t[col].astype(str).fillna('')]))\n",
    "    sdf[col] = le.transform(df[col].astype(str).fillna(''))\n",
    "    sdf_t[col] = le.transform(df_t[col].astype(str).fillna(''))"
   ]
  },
  {
   "cell_type": "code",
   "execution_count": 6,
   "metadata": {},
   "outputs": [],
   "source": [
    "from sklearn.linear_model import SGDClassifier, LogisticRegression\n",
    "from sklearn import svm\n",
    "from sklearn.metrics import roc_curve, auc\n",
    "from matplotlib import pyplot as plt\n",
    "\n",
    "label = pd.to_numeric(df['totals.transactionRevenue'] >0)"
   ]
  },
  {
   "cell_type": "code",
   "execution_count": 19,
   "metadata": {},
   "outputs": [],
   "source": [
    "import xgboost as xgb\n",
    "clf = xgb.XGBClassifier(max_depth=6, n_jobs=8, objective='binary:logistic')\n",
    "X_train, X_test, y_train, y_test = train_test_split(sdf, label, test_size=.2, random_state=10)"
   ]
  },
  {
   "cell_type": "code",
   "execution_count": 20,
   "metadata": {},
   "outputs": [
    {
     "data": {
      "text/plain": [
       "XGBClassifier(base_score=0.5, booster='gbtree', colsample_bylevel=1,\n",
       "       colsample_bytree=1, gamma=0, learning_rate=0.1, max_delta_step=0,\n",
       "       max_depth=6, min_child_weight=1, missing=None, n_estimators=100,\n",
       "       n_jobs=8, nthread=None, objective='binary:logistic', random_state=0,\n",
       "       reg_alpha=0, reg_lambda=1, scale_pos_weight=1, seed=None,\n",
       "       silent=True, subsample=1)"
      ]
     },
     "execution_count": 20,
     "metadata": {},
     "output_type": "execute_result"
    }
   ],
   "source": [
    "clf.fit(X_train, y_train)"
   ]
  },
  {
   "cell_type": "code",
   "execution_count": 24,
   "metadata": {
    "scrolled": true
   },
   "outputs": [
    {
     "name": "stdout",
     "output_type": "stream",
     "text": [
      "accuracy: 0.9884967161140037\n",
      "[[178146    311]\n",
      " [  1768    506]]\n"
     ]
    },
    {
     "data": {
      "image/png": "[encoded data removed]",
      "text/plain": [
       "<Figure size 432x288 with 1 Axes>"
      ]
     },
     "metadata": {
      "needs_background": "light"
     },
     "output_type": "display_data"
    }
   ],
   "source": [
    "pred = clf.predict_proba(X_test)\n",
    "cv = pd.DataFrame(pred)[df['totals.transactionRevenue'] >0][0]\n",
    "# cv\n",
    "non_cv = pd.DataFrame(pred)[df['totals.transactionRevenue'] == 0][0]\n",
    "plt.hist([cv, non_cv], stacked=['True'], color=['g', 'r'], log=True)\n",
    "print('accuracy:', clf.score(X_test, y_test))\n",
    "\n",
    "from sklearn.metrics import confusion_matrix\n",
    "print(confusion_matrix(y_test, clf.predict(X_test)))"
   ]
  },
  {
   "cell_type": "code",
   "execution_count": 22,
   "metadata": {},
   "outputs": [
    {
     "data": {
      "text/plain": [
       "'data/tree.png'"
      ]
     },
     "execution_count": 22,
     "metadata": {},
     "output_type": "execute_result"
    }
   ],
   "source": [
    "from xgboost import plot_tree\n",
    "graph1 = xgb.to_graphviz(clf)\n",
    "graph1.format = 'png'\n",
    "graph1.render('data/tree')"
   ]
  },
  {
   "cell_type": "code",
   "execution_count": 257,
   "metadata": {},
   "outputs": [
    {
     "ename": "AttributeError",
     "evalue": "'numpy.ndarray' object has no attribute 'hist'",
     "output_type": "error",
     "traceback": [
      "\u001b[0;31m---------------------------------------------------------------------------\u001b[0m",
      "\u001b[0;31mAttributeError\u001b[0m                            Traceback (most recent call last)",
      "\u001b[0;32m<ipython-input-257-8402b110d3ca>\u001b[0m in \u001b[0;36m<module>\u001b[0;34m\u001b[0m\n\u001b[1;32m     13\u001b[0m \u001b[0mroc_df\u001b[0m\u001b[0;34m[\u001b[0m\u001b[0;34m'tpr'\u001b[0m\u001b[0;34m]\u001b[0m \u001b[0;34m=\u001b[0m \u001b[0mtpr\u001b[0m\u001b[0;34m\u001b[0m\u001b[0m\n\u001b[1;32m     14\u001b[0m \u001b[0mroc_df\u001b[0m\u001b[0;34m[\u001b[0m\u001b[0;34m'th'\u001b[0m\u001b[0;34m]\u001b[0m \u001b[0;34m=\u001b[0m \u001b[0mth\u001b[0m\u001b[0;34m\u001b[0m\u001b[0m\n\u001b[0;32m---> 15\u001b[0;31m \u001b[0my_score\u001b[0m\u001b[0;34m.\u001b[0m\u001b[0mhist\u001b[0m\u001b[0;34m(\u001b[0m\u001b[0;34m)\u001b[0m\u001b[0;34m\u001b[0m\u001b[0m\n\u001b[0m",
      "\u001b[0;31mAttributeError\u001b[0m: 'numpy.ndarray' object has no attribute 'hist'"
     ]
    }
   ],
   "source": [
    "# ボツ\n",
    "from sklearn.preprocessing import label_binarize\n",
    "\n",
    "X_train, X_test, y_train, y_test = train_test_split(sdf, label, test_size=.2, random_state=10)\n",
    "\n",
    "clf = LogisticRegression(penalty='l1', n_jobs=6, C=0.005)\n",
    "y_score = clf.fit(X_train, y_train).decision_function(X_test)\n",
    "y_test =  np.array(y_test)\n",
    "y_score = np.array(y_score)\n",
    "\n",
    "fpr, tpr, th = roc_curve(y_test, y_score)\n",
    "roc_df = pd.DataFrame()\n",
    "roc_df['fpr'] = fpr\n",
    "roc_df['tpr'] = tpr\n",
    "roc_df['th'] = th\n"
   ]
  },
  {
   "cell_type": "code",
   "execution_count": 281,
   "metadata": {},
   "outputs": [],
   "source": [
    "from sklearn.linear_model import LogisticRegressionCV\n",
    "clf = LogisticRegressionCV(cv=5, random_state=0, n_jobs=8, scoring='roc_auc').fit(sdf, label)\n",
    "pred = clf.predict(sdf)"
   ]
  },
  {
   "cell_type": "code",
   "execution_count": 293,
   "metadata": {},
   "outputs": [
    {
     "name": "stdout",
     "output_type": "stream",
     "text": [
      "roc_auc: 0.7520113908023282\n"
     ]
    },
    {
     "data": {
      "text/plain": [
       "([array([0.0000e+00, 0.0000e+00, 0.0000e+00, 3.0000e+00, 8.0000e+00,\n",
       "         1.0000e+01, 1.4000e+01, 2.9000e+01, 9.5000e+01, 1.1356e+04]),\n",
       "  array([1.0000e+00, 5.0000e+00, 4.2000e+01, 9.4000e+01, 2.0600e+02,\n",
       "         4.6600e+02, 9.2100e+02, 1.7070e+03, 4.1810e+03, 8.9603e+05])],\n",
       " array([0.29338727, 0.36399731, 0.43460735, 0.50521738, 0.57582742,\n",
       "        0.64643746, 0.71704749, 0.78765753, 0.85826756, 0.9288776 ,\n",
       "        0.99948764]),\n",
       " <a list of 2 Lists of Patches objects>)"
      ]
     },
     "execution_count": 293,
     "metadata": {},
     "output_type": "execute_result"
    },
    {
     "data": {
      "image/png": "[encoded data removed]",
      "text/plain": [
       "<Figure size 432x288 with 1 Axes>"
      ]
     },
     "metadata": {
      "needs_background": "light"
     },
     "output_type": "display_data"
    }
   ],
   "source": [
    "# pred = [1 if x else 0 for x in pred]\n",
    "sc = clf.score(sdf, label)\n",
    "print('roc_auc:', sc)\n",
    "prob = clf.predict_proba(sdf)\n",
    "cv = pd.DataFrame(prob)[df['totals.transactionRevenue'] >0][0]\n",
    "# cv\n",
    "non_cv = pd.DataFrame(prob)[df['totals.transactionRevenue'] == 0][0]\n",
    "plt.hist([cv, non_cv], stacked=['True'], color=['g', 'r'], log=True)"
   ]
  },
  {
   "cell_type": "code",
   "execution_count": null,
   "metadata": {},
   "outputs": [],
   "source": [
    "fpr, tpr, th = roc_curve(y_test, y_score)\n",
    "roc_df = pd.DataFrame()\n",
    "roc_df['fpr'] = fpr\n",
    "roc_df['tpr'] = tpr\n",
    "roc_df['th'] = th"
   ]
  },
  {
   "cell_type": "code",
   "execution_count": 195,
   "metadata": {},
   "outputs": [
    {
     "data": {
      "text/plain": [
       "0.9536972620111257"
      ]
     },
     "execution_count": 195,
     "metadata": {},
     "output_type": "execute_result"
    }
   ],
   "source": [
    "roc_df.to_csv('data/roc.csv', index=False)\n",
    "auc(fpr, tpr)"
   ]
  },
  {
   "cell_type": "code",
   "execution_count": 196,
   "metadata": {},
   "outputs": [
    {
     "data": {
      "image/png": "[encoded data removed]",
      "text/plain": [
       "<Figure size 432x288 with 1 Axes>"
      ]
     },
     "metadata": {
      "needs_background": "light"
     },
     "output_type": "display_data"
    }
   ],
   "source": [
    "plt.figure()\n",
    "plt.plot(fpr, tpr, color='darkorange',\n",
    "         lw=2)\n",
    "plt.xlim([0.0, 1.0])\n",
    "plt.ylim([0.0, 1.05])\n",
    "plt.xlabel('False Positive Rate')\n",
    "plt.ylabel('True Positive Rate')\n",
    "plt.show()"
   ]
  },
  {
   "cell_type": "code",
   "execution_count": 218,
   "metadata": {
    "scrolled": true
   },
   "outputs": [
    {
     "name": "stdout",
     "output_type": "stream",
     "text": [
      "fpr    0.048908\n",
      "tpr    0.686016\n",
      "th    -2.781232\n",
      "Name: 2568, dtype: float64\n",
      "111583\n",
      "{'C': 0.005, 'class_weight': None, 'dual': False, 'fit_intercept': True, 'intercept_scaling': 1, 'max_iter': 100, 'multi_class': 'warn', 'n_jobs': 6, 'penalty': 'l1', 'random_state': None, 'solver': 'warn', 'tol': 0.0001, 'verbose': 0, 'warm_start': False}\n",
      "[[-4.51576239e-01  0.00000000e+00 -6.54510593e-01  5.40134839e-01\n",
      "   0.00000000e+00  0.00000000e+00  0.00000000e+00  1.58676645e+01\n",
      "   0.00000000e+00  0.00000000e+00 -7.35638411e-02 -1.34646138e-01\n",
      "   7.01073840e-04  1.09220421e-02 -4.11391805e-03 -3.20780052e-01\n",
      "   2.61002889e+00  0.00000000e+00 -1.42542011e-02 -1.10398500e-02\n",
      "   1.83984545e-01  6.72656449e-05 -5.33160463e-04  0.00000000e+00\n",
      "  -3.17097309e-08 -3.95148724e-02 -2.20945597e-02 -3.82684133e-05\n",
      "   1.41788110e-04 -1.22305631e+00]]\n",
      "['trafficSource.isTrueDirect' 'trafficSource.adwordsClickInfo.isVideoAd'\n",
      " 'device.isMobile' 'totals.newVisits' 'visitNumber' 'visitStartTime'\n",
      " 'date' 'totals.hits' 'totals.pageviews'\n",
      " 'trafficSource.adwordsClickInfo.adNetworkType'\n",
      " 'trafficSource.adwordsClickInfo.page' 'channelGrouping'\n",
      " 'geoNetwork.region' 'geoNetwork.country' 'geoNetwork.metro'\n",
      " 'trafficSource.campaign' 'totals.bounces' 'device.deviceCategory'\n",
      " 'device.browser' 'trafficSource.adContent' 'trafficSource.medium'\n",
      " 'geoNetwork.city' 'trafficSource.source'\n",
      " 'trafficSource.adwordsClickInfo.slot' 'fullVisitorId'\n",
      " 'geoNetwork.subContinent' 'device.operatingSystem'\n",
      " 'trafficSource.adwordsClickInfo.gclId' 'trafficSource.keyword'\n",
      " 'geoNetwork.continent']\n"
     ]
    },
    {
     "data": {
      "text/html": [
       "<div>\n",
       "<style scoped>\n",
       "    .dataframe tbody tr th:only-of-type {\n",
       "        vertical-align: middle;\n",
       "    }\n",
       "\n",
       "    .dataframe tbody tr th {\n",
       "        vertical-align: top;\n",
       "    }\n",
       "\n",
       "    .dataframe thead th {\n",
       "        text-align: right;\n",
       "    }\n",
       "</style>\n",
       "<table border=\"1\" class=\"dataframe\">\n",
       "  <thead>\n",
       "    <tr style=\"text-align: right;\">\n",
       "      <th></th>\n",
       "      <th>feature</th>\n",
       "      <th>coef</th>\n",
       "      <th>coef_abs</th>\n",
       "    </tr>\n",
       "  </thead>\n",
       "  <tbody>\n",
       "    <tr>\n",
       "      <th>7</th>\n",
       "      <td>totals.hits</td>\n",
       "      <td>1.586766e+01</td>\n",
       "      <td>1.586766e+01</td>\n",
       "    </tr>\n",
       "    <tr>\n",
       "      <th>16</th>\n",
       "      <td>totals.bounces</td>\n",
       "      <td>2.610029e+00</td>\n",
       "      <td>2.610029e+00</td>\n",
       "    </tr>\n",
       "    <tr>\n",
       "      <th>29</th>\n",
       "      <td>geoNetwork.continent</td>\n",
       "      <td>-1.223056e+00</td>\n",
       "      <td>1.223056e+00</td>\n",
       "    </tr>\n",
       "    <tr>\n",
       "      <th>2</th>\n",
       "      <td>device.isMobile</td>\n",
       "      <td>-6.545106e-01</td>\n",
       "      <td>6.545106e-01</td>\n",
       "    </tr>\n",
       "    <tr>\n",
       "      <th>3</th>\n",
       "      <td>totals.newVisits</td>\n",
       "      <td>5.401348e-01</td>\n",
       "      <td>5.401348e-01</td>\n",
       "    </tr>\n",
       "    <tr>\n",
       "      <th>0</th>\n",
       "      <td>trafficSource.isTrueDirect</td>\n",
       "      <td>-4.515762e-01</td>\n",
       "      <td>4.515762e-01</td>\n",
       "    </tr>\n",
       "    <tr>\n",
       "      <th>15</th>\n",
       "      <td>trafficSource.campaign</td>\n",
       "      <td>-3.207801e-01</td>\n",
       "      <td>3.207801e-01</td>\n",
       "    </tr>\n",
       "    <tr>\n",
       "      <th>20</th>\n",
       "      <td>trafficSource.medium</td>\n",
       "      <td>1.839845e-01</td>\n",
       "      <td>1.839845e-01</td>\n",
       "    </tr>\n",
       "    <tr>\n",
       "      <th>11</th>\n",
       "      <td>channelGrouping</td>\n",
       "      <td>-1.346461e-01</td>\n",
       "      <td>1.346461e-01</td>\n",
       "    </tr>\n",
       "    <tr>\n",
       "      <th>10</th>\n",
       "      <td>trafficSource.adwordsClickInfo.page</td>\n",
       "      <td>-7.356384e-02</td>\n",
       "      <td>7.356384e-02</td>\n",
       "    </tr>\n",
       "    <tr>\n",
       "      <th>25</th>\n",
       "      <td>geoNetwork.subContinent</td>\n",
       "      <td>-3.951487e-02</td>\n",
       "      <td>3.951487e-02</td>\n",
       "    </tr>\n",
       "    <tr>\n",
       "      <th>26</th>\n",
       "      <td>device.operatingSystem</td>\n",
       "      <td>-2.209456e-02</td>\n",
       "      <td>2.209456e-02</td>\n",
       "    </tr>\n",
       "    <tr>\n",
       "      <th>18</th>\n",
       "      <td>device.browser</td>\n",
       "      <td>-1.425420e-02</td>\n",
       "      <td>1.425420e-02</td>\n",
       "    </tr>\n",
       "    <tr>\n",
       "      <th>19</th>\n",
       "      <td>trafficSource.adContent</td>\n",
       "      <td>-1.103985e-02</td>\n",
       "      <td>1.103985e-02</td>\n",
       "    </tr>\n",
       "    <tr>\n",
       "      <th>13</th>\n",
       "      <td>geoNetwork.country</td>\n",
       "      <td>1.092204e-02</td>\n",
       "      <td>1.092204e-02</td>\n",
       "    </tr>\n",
       "    <tr>\n",
       "      <th>14</th>\n",
       "      <td>geoNetwork.metro</td>\n",
       "      <td>-4.113918e-03</td>\n",
       "      <td>4.113918e-03</td>\n",
       "    </tr>\n",
       "    <tr>\n",
       "      <th>12</th>\n",
       "      <td>geoNetwork.region</td>\n",
       "      <td>7.010738e-04</td>\n",
       "      <td>7.010738e-04</td>\n",
       "    </tr>\n",
       "    <tr>\n",
       "      <th>22</th>\n",
       "      <td>trafficSource.source</td>\n",
       "      <td>-5.331605e-04</td>\n",
       "      <td>5.331605e-04</td>\n",
       "    </tr>\n",
       "    <tr>\n",
       "      <th>28</th>\n",
       "      <td>trafficSource.keyword</td>\n",
       "      <td>1.417881e-04</td>\n",
       "      <td>1.417881e-04</td>\n",
       "    </tr>\n",
       "    <tr>\n",
       "      <th>21</th>\n",
       "      <td>geoNetwork.city</td>\n",
       "      <td>6.726564e-05</td>\n",
       "      <td>6.726564e-05</td>\n",
       "    </tr>\n",
       "    <tr>\n",
       "      <th>27</th>\n",
       "      <td>trafficSource.adwordsClickInfo.gclId</td>\n",
       "      <td>-3.826841e-05</td>\n",
       "      <td>3.826841e-05</td>\n",
       "    </tr>\n",
       "    <tr>\n",
       "      <th>24</th>\n",
       "      <td>fullVisitorId</td>\n",
       "      <td>-3.170973e-08</td>\n",
       "      <td>3.170973e-08</td>\n",
       "    </tr>\n",
       "    <tr>\n",
       "      <th>5</th>\n",
       "      <td>visitStartTime</td>\n",
       "      <td>0.000000e+00</td>\n",
       "      <td>0.000000e+00</td>\n",
       "    </tr>\n",
       "    <tr>\n",
       "      <th>17</th>\n",
       "      <td>device.deviceCategory</td>\n",
       "      <td>0.000000e+00</td>\n",
       "      <td>0.000000e+00</td>\n",
       "    </tr>\n",
       "    <tr>\n",
       "      <th>4</th>\n",
       "      <td>visitNumber</td>\n",
       "      <td>0.000000e+00</td>\n",
       "      <td>0.000000e+00</td>\n",
       "    </tr>\n",
       "    <tr>\n",
       "      <th>23</th>\n",
       "      <td>trafficSource.adwordsClickInfo.slot</td>\n",
       "      <td>0.000000e+00</td>\n",
       "      <td>0.000000e+00</td>\n",
       "    </tr>\n",
       "    <tr>\n",
       "      <th>9</th>\n",
       "      <td>trafficSource.adwordsClickInfo.adNetworkType</td>\n",
       "      <td>0.000000e+00</td>\n",
       "      <td>0.000000e+00</td>\n",
       "    </tr>\n",
       "    <tr>\n",
       "      <th>8</th>\n",
       "      <td>totals.pageviews</td>\n",
       "      <td>0.000000e+00</td>\n",
       "      <td>0.000000e+00</td>\n",
       "    </tr>\n",
       "    <tr>\n",
       "      <th>1</th>\n",
       "      <td>trafficSource.adwordsClickInfo.isVideoAd</td>\n",
       "      <td>0.000000e+00</td>\n",
       "      <td>0.000000e+00</td>\n",
       "    </tr>\n",
       "    <tr>\n",
       "      <th>6</th>\n",
       "      <td>date</td>\n",
       "      <td>0.000000e+00</td>\n",
       "      <td>0.000000e+00</td>\n",
       "    </tr>\n",
       "  </tbody>\n",
       "</table>\n",
       "</div>"
      ],
      "text/plain": [
       "                                         feature          coef      coef_abs\n",
       "7                                    totals.hits  1.586766e+01  1.586766e+01\n",
       "16                                totals.bounces  2.610029e+00  2.610029e+00\n",
       "29                          geoNetwork.continent -1.223056e+00  1.223056e+00\n",
       "2                                device.isMobile -6.545106e-01  6.545106e-01\n",
       "3                               totals.newVisits  5.401348e-01  5.401348e-01\n",
       "0                     trafficSource.isTrueDirect -4.515762e-01  4.515762e-01\n",
       "15                        trafficSource.campaign -3.207801e-01  3.207801e-01\n",
       "20                          trafficSource.medium  1.839845e-01  1.839845e-01\n",
       "11                               channelGrouping -1.346461e-01  1.346461e-01\n",
       "10           trafficSource.adwordsClickInfo.page -7.356384e-02  7.356384e-02\n",
       "25                       geoNetwork.subContinent -3.951487e-02  3.951487e-02\n",
       "26                        device.operatingSystem -2.209456e-02  2.209456e-02\n",
       "18                                device.browser -1.425420e-02  1.425420e-02\n",
       "19                       trafficSource.adContent -1.103985e-02  1.103985e-02\n",
       "13                            geoNetwork.country  1.092204e-02  1.092204e-02\n",
       "14                              geoNetwork.metro -4.113918e-03  4.113918e-03\n",
       "12                             geoNetwork.region  7.010738e-04  7.010738e-04\n",
       "22                          trafficSource.source -5.331605e-04  5.331605e-04\n",
       "28                         trafficSource.keyword  1.417881e-04  1.417881e-04\n",
       "21                               geoNetwork.city  6.726564e-05  6.726564e-05\n",
       "27          trafficSource.adwordsClickInfo.gclId -3.826841e-05  3.826841e-05\n",
       "24                                 fullVisitorId -3.170973e-08  3.170973e-08\n",
       "5                                 visitStartTime  0.000000e+00  0.000000e+00\n",
       "17                         device.deviceCategory  0.000000e+00  0.000000e+00\n",
       "4                                    visitNumber  0.000000e+00  0.000000e+00\n",
       "23           trafficSource.adwordsClickInfo.slot  0.000000e+00  0.000000e+00\n",
       "9   trafficSource.adwordsClickInfo.adNetworkType  0.000000e+00  0.000000e+00\n",
       "8                               totals.pageviews  0.000000e+00  0.000000e+00\n",
       "1       trafficSource.adwordsClickInfo.isVideoAd  0.000000e+00  0.000000e+00\n",
       "6                                           date  0.000000e+00  0.000000e+00"
      ]
     },
     "execution_count": 218,
     "metadata": {},
     "output_type": "execute_result"
    }
   ],
   "source": [
    "print(roc_df.loc[2568]) \n",
    "pred = clf.decision_function(sdf_t) # predict(sdf_t)\n",
    "pred = list(map(lambda x: 1 if x > -3.6 else 0, pred))\n",
    "print(sum(list(map(int, pred))) ) \n",
    "print(clf.get_params())\n",
    "print(clf.coef_)\n",
    "print(sdf.columns.values)\n",
    "fts = pd.DataFrame()\n",
    "fts['feature'] = sdf.columns.values \n",
    "fts['coef'] = clf.coef_[0]\n",
    "fts['coef_abs'] = abs(clf.coef_[0])\n",
    "fts = fts.sort_values(by=['coef_abs'], ascending=False)\n",
    "fts"
   ]
  },
  {
   "cell_type": "code",
   "execution_count": 253,
   "metadata": {},
   "outputs": [
    {
     "data": {
      "text/plain": [
       "(511515, 30)"
      ]
     },
     "execution_count": 253,
     "metadata": {},
     "output_type": "execute_result"
    }
   ],
   "source": [
    "sdf_ = sdf[df['totals.transactionRevenue'] > 0]\n",
    "label_ = np.log(df[df['totals.transactionRevenue'] > 0]['totals.transactionRevenue'] + 1)\n",
    "\n",
    "df_zero = sdf[df['totals.transactionRevenue'] == 0][:500000]\n",
    "label_zero = df[df['totals.transactionRevenue'] == 0]['totals.transactionRevenue'][:500000]\n",
    "\n",
    "sdf_ = pd.concat([sdf_, df_zero])\n",
    "label_ = pd.concat([label_, label_zero])\n",
    "\n",
    "sdf_.shape"
   ]
  },
  {
   "cell_type": "code",
   "execution_count": 254,
   "metadata": {
    "scrolled": true
   },
   "outputs": [
    {
     "data": {
      "text/plain": [
       "[<matplotlib.lines.Line2D at 0x174fc5ef0>]"
      ]
     },
     "execution_count": 254,
     "metadata": {},
     "output_type": "execute_result"
    },
    {
     "data": {
      "image/png": "[encoded data removed]",
      "text/plain": [
       "<Figure size 432x288 with 1 Axes>"
      ]
     },
     "metadata": {
      "needs_background": "light"
     },
     "output_type": "display_data"
    }
   ],
   "source": [
    "from sklearn.model_selection import learning_curve\n",
    "import matplotlib.pyplot as plt\n",
    "from sklearn import linear_model\n",
    "\n",
    "est = linear_model.LassoCV(n_alphas=20)\n",
    "training_set_size, train_scores, test_scores = learning_curve(est, sdf_, label_, train_sizes=np.linspace(0.1, 1, 30))\n",
    "estimator_name = est.__class__.__name__\n",
    "line = plt.plot(training_set_size, train_scores.mean(axis=1), '--', label=\"training scores \" + estimator_name)\n",
    "plt.plot(training_set_size, test_scores.mean(axis=1), '-', label=\"test scores \" + estimator_name, c=line[0].get_color())"
   ]
  },
  {
   "cell_type": "code",
   "execution_count": 229,
   "metadata": {},
   "outputs": [],
   "source": [
    "from sklearn.metrics import mean_squared_error\n",
    "def RMSE(y_true, y_pred):\n",
    "    return np.sqrt(mean_squared_error(y_true, y_pred))"
   ]
  },
  {
   "cell_type": "code",
   "execution_count": 251,
   "metadata": {},
   "outputs": [
    {
     "name": "stdout",
     "output_type": "stream",
     "text": [
      "[12.77865208 10.76326155 12.56003869 ... 11.84936628  7.84963127\n",
      "  5.82006962]\n",
      "(903653, 36) (903653, 30) 21515 21515\n",
      "RMSE: 7.837070486374195\n"
     ]
    },
    {
     "data": {
      "text/plain": [
       "array([[<matplotlib.axes._subplots.AxesSubplot object at 0x173ffc898>]],\n",
       "      dtype=object)"
      ]
     },
     "execution_count": 251,
     "metadata": {},
     "output_type": "execute_result"
    },
    {
     "data": {
      "image/png": "[encoded data removed]",
      "text/plain": [
       "<Figure size 432x288 with 1 Axes>"
      ]
     },
     "metadata": {
      "needs_background": "light"
     },
     "output_type": "display_data"
    }
   ],
   "source": [
    "model = est.fit(sdf_, label_)\n",
    "pre = est.predict(sdf_)\n",
    "print(pre)\n",
    "print(df.shape, sdf.shape, len(label_), len(pre))\n",
    "print('RMSE:', RMSE(label_, pre))\n",
    "pd.DataFrame(pre).hist()"
   ]
  },
  {
   "cell_type": "code",
   "execution_count": 252,
   "metadata": {},
   "outputs": [
    {
     "name": "stdout",
     "output_type": "stream",
     "text": [
      "(617242, 2)\n"
     ]
    },
    {
     "data": {
      "image/png": "[encoded data removed]",
      "text/plain": [
       "<Figure size 432x288 with 1 Axes>"
      ]
     },
     "metadata": {
      "needs_background": "light"
     },
     "output_type": "display_data"
    }
   ],
   "source": [
    "ans = pd.DataFrame()\n",
    "ans['yo'] = pred\n",
    "ans['rev'] = est.predict(sdf_t)\n",
    "ans['fullVisitorId'] = df_t['fullVisitorId'].astype(str)\n",
    "ans['PredictedLogRevenue'] = ans['yo'] * ans['rev']\n",
    "ans = ans.groupby(\"fullVisitorId\")[\"PredictedLogRevenue\"].sum().reset_index()\n",
    "ans.columns = [\"fullVisitorId\", \"PredictedLogRevenue\"]\n",
    "# ans['PredictedLogRevenue'] = np.log(ans['PredictedLogRevenue'])\n",
    "ans.to_csv('data/2class.csv', index=False)\n",
    "ans.hist(bins=50)\n",
    "print(ans.shape) "
   ]
  },
  {
   "cell_type": "code",
   "execution_count": null,
   "metadata": {},
   "outputs": [],
   "source": []
  }
 ],
 "metadata": {
  "kernelspec": {
   "display_name": "Python 3",
   "language": "python",
   "name": "python3"
  },
  "language_info": {
   "codemirror_mode": {
    "name": "ipython",
    "version": 3
   },
   "file_extension": ".py",
   "mimetype": "text/x-python",
   "name": "python",
   "nbconvert_exporter": "python",
   "pygments_lexer": "ipython3",
   "version": "3.6.0"
  }
 },
 "nbformat": 4,
 "nbformat_minor": 2
}
