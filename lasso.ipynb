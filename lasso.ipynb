{
 "cells": [
  {
   "cell_type": "code",
   "execution_count": null,
   "metadata": {},
   "outputs": [],
   "source": [
    "%matplotlib inline\n",
    "import warnings\n",
    "warnings.filterwarnings(action='ignore')"
   ]
  },
  {
   "cell_type": "code",
   "execution_count": null,
   "metadata": {},
   "outputs": [],
   "source": [
    "import pandas as pd\n",
    "import numpy as np\n",
    "import tensorflow as tf\n",
    "import tensorflow.feature_column as fc \n",
    "import tensorflow.debugging as tfdbg\n",
    "from sklearn.model_selection import train_test_split\n",
    "\n",
    "df = pd.read_csv(\"data/train.flat.csv\", dtype={'fullVisitorId': 'str', 'visitId': 'str'})\n",
    "df_t = pd.read_csv(\"data/test.flat.csv\", dtype={'fullVisitorId': 'str', 'visitId': 'str'})\n",
    "for col in df.columns:\n",
    "#     print(col, df[col].fillna('').nunique())\n",
    "    if df[col].fillna('').nunique() == 1:\n",
    "        print(\"column skipped (cardinality = 1):\", col)\n",
    "        df = df.drop(col, axis=1)"
   ]
  },
  {
   "cell_type": "code",
   "execution_count": null,
   "metadata": {},
   "outputs": [],
   "source": [
    "sdf = pd.DataFrame()\n",
    "sdf_t = pd.DataFrame()\n",
    "features = []\n",
    "\n",
    "# boolean\n",
    "for col in ['trafficSource.isTrueDirect', 'trafficSource.adwordsClickInfo.isVideoAd', 'device.isMobile', 'totals.newVisits']:\n",
    "    sdf[col] = df[col].apply(lambda x: 2 if np.isnan(x) else int(x))\n",
    "    sdf_t[col] = df_t[col].apply(lambda x: 2 if np.isnan(x) else int(x))\n",
    "    features.append(fc.indicator_column(fc.categorical_column_with_vocabulary_list(col, (0,1,2))))\n",
    "        \n",
    "# numeric\n",
    "for col in ['visitNumber', 'visitStartTime', 'date', 'totals.hits', 'totals.pageviews']:\n",
    "    minv = df[col].min()\n",
    "    maxv = df[col].max()\n",
    "    sdf[col] = df[col].apply(lambda x: (x-minv)/maxv).fillna(0)\n",
    "    minv = df_t[col].min()\n",
    "    maxv = df_t[col].max()\n",
    "    sdf_t[col] = df_t[col].apply(lambda x: (x-minv)/maxv).fillna(0)\n",
    "    features.append(fc.numeric_column(col))\n",
    "\n",
    "    \n",
    "from sklearn.preprocessing import LabelEncoder\n",
    "    \n",
    "# string\n",
    "for col in [\n",
    "    'trafficSource.adwordsClickInfo.adNetworkType',\n",
    "    'trafficSource.adwordsClickInfo.page',\n",
    "    'channelGrouping',\n",
    "    'geoNetwork.region',\n",
    "    'geoNetwork.country',\n",
    "    'geoNetwork.metro',\n",
    "    'trafficSource.campaign',\n",
    "    'totals.bounces',\n",
    "    #'trafficSource.referralPath',\n",
    "    'device.deviceCategory',\n",
    "    'device.browser',\n",
    "    'trafficSource.adContent',\n",
    "    'trafficSource.medium',\n",
    "    'geoNetwork.city',\n",
    "    'trafficSource.source',\n",
    "    'trafficSource.adwordsClickInfo.slot',\n",
    "    'fullVisitorId',\n",
    "    'geoNetwork.subContinent',\n",
    "    'device.operatingSystem',\n",
    "    #'geoNetwork.networkDomain',\n",
    "    'trafficSource.adwordsClickInfo.gclId',\n",
    "#     'trafficSource.campaignCode', // not exist in test\n",
    "    'trafficSource.keyword',\n",
    "    'geoNetwork.continent']:\n",
    "    le = LabelEncoder()\n",
    "    le.fit(pd.concat([df[col].astype(str).fillna(''), df_t[col].astype(str).fillna('')]))\n",
    "    sdf[col] = le.transform(df[col].astype(str).fillna(''))\n",
    "    sdf_t[col] = le.transform(df_t[col].astype(str).fillna(''))\n",
    "    features.append(fc.indicator_column(fc.categorical_column_with_vocabulary_list(col, sdf[col].unique())))"
   ]
  },
  {
   "cell_type": "code",
   "execution_count": null,
   "metadata": {},
   "outputs": [],
   "source": [
    "print(df['totals.transactionRevenue'].dropna().min(), df['totals.transactionRevenue'].dropna().max())\n",
    "label = np.log(df['totals.transactionRevenue'].fillna(0) + 1)\n",
    "label.hist(bins=50)"
   ]
  },
  {
   "cell_type": "code",
   "execution_count": null,
   "metadata": {},
   "outputs": [],
   "source": [
    "print(sdf['trafficSource.campaign'].unique())"
   ]
  },
  {
   "cell_type": "code",
   "execution_count": null,
   "metadata": {},
   "outputs": [],
   "source": [
    "from sklearn.model_selection import learning_curve\n",
    "import matplotlib.pyplot as plt\n",
    "from sklearn import linear_model\n",
    "\n",
    "est = linear_model.LassoCV(n_alphas=20)\n",
    "training_set_size, train_scores, test_scores = learning_curve(est, sdf, label, train_sizes=np.linspace(0.1, 1, 30))\n",
    "estimator_name = est.__class__.__name__\n",
    "line = plt.plot(training_set_size, train_scores.mean(axis=1), '--', label=\"training scores \" + estimator_name)\n",
    "plt.plot(training_set_size, test_scores.mean(axis=1), '-', label=\"test scores \" + estimator_name, c=line[0].get_color())\n",
    "plt.xlabel('Training set size')\n",
    "plt.legend(loc='best')"
   ]
  },
  {
   "cell_type": "code",
   "execution_count": null,
   "metadata": {},
   "outputs": [],
   "source": [
    "est.fit(sdf, label)\n",
    "pre = est.predict(sdf_t)\n",
    "len(pre) "
   ]
  },
  {
   "cell_type": "code",
   "execution_count": null,
   "metadata": {},
   "outputs": [],
   "source": [
    "ans = pd.DataFrame()\n",
    "ans['fullVisitorId'] = df_t['fullVisitorId'].astype(str)\n",
    "ans['PredictedLogRevenue'] = pre # np.log(pre)\n",
    "\n",
    "ans = ans.groupby(\"fullVisitorId\")[\"PredictedLogRevenue\"].sum().reset_index()\n",
    "ans.columns = [\"fullVisitorId\", \"PredictedLogRevenue\"]\n",
    "ans.to_csv('data/ans.csv', index=False)\n",
    "ans\n"
   ]
  }
 ],
 "metadata": {
  "kernelspec": {
   "display_name": "Python 3",
   "language": "python",
   "name": "python3"
  },
  "language_info": {
   "codemirror_mode": {
    "name": "ipython",
    "version": 3
   },
   "file_extension": ".py",
   "mimetype": "text/x-python",
   "name": "python",
   "nbconvert_exporter": "python",
   "pygments_lexer": "ipython3",
   "version": "3.6.2"
  }
 },
 "nbformat": 4,
 "nbformat_minor": 2
}
