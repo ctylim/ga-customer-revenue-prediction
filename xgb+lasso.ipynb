{
 "cells": [
  {
   "cell_type": "code",
   "execution_count": null,
   "metadata": {},
   "outputs": [],
   "source": [
    "%matplotlib inline\n",
    "import warnings\n",
    "warnings.filterwarnings(action='ignore')\n",
    "import pandas as pd\n",
    "import numpy as np\n",
    "from sklearn.model_selection import train_test_split\n",
    "\n",
    "df = pd.read_csv(\"data/train.flat.csv\", dtype={'fullVisitorId': 'str', 'visitId': 'str'})\n",
    "df_t = pd.read_csv(\"data/test.flat.csv\", dtype={'fullVisitorId': 'str', 'visitId': 'str'})\n",
    "for col in df.columns:\n",
    "#     print(col, df[col].fillna('').nunique())\n",
    "    if df[col].fillna('').nunique() == 1:\n",
    "        print(\"column skipped (cardinality = 1):\", col)\n",
    "        df = df.drop(col, axis=1)"
   ]
  },
  {
   "cell_type": "code",
   "execution_count": null,
   "metadata": {},
   "outputs": [],
   "source": [
    "(np.log(df['totals.transactionRevenue'].dropna() +1)).hist()"
   ]
  },
  {
   "cell_type": "code",
   "execution_count": null,
   "metadata": {},
   "outputs": [],
   "source": [
    "df['totals.transactionRevenue'] = df['totals.transactionRevenue'].fillna(0)"
   ]
  },
  {
   "cell_type": "code",
   "execution_count": null,
   "metadata": {},
   "outputs": [],
   "source": [
    "from datetime import datetime\n",
    "sdf = pd.DataFrame()\n",
    "sdf_t = pd.DataFrame()\n",
    "\n",
    "# boolean\n",
    "for col in ['trafficSource.isTrueDirect', 'trafficSource.adwordsClickInfo.isVideoAd', 'device.isMobile', 'totals.newVisits']:\n",
    "    sdf[col] = df[col].apply(lambda x: 2 if np.isnan(x) else int(x))\n",
    "    sdf_t[col] = df_t[col].apply(lambda x: 2 if np.isnan(x) else int(x))\n",
    "        \n",
    "# numeric\n",
    "for col in ['visitNumber', 'visitStartTime', 'totals.hits', 'totals.pageviews']:\n",
    "    minv = df[col].min()\n",
    "    maxv = df[col].max()\n",
    "    sdf[col] = df[col].apply(lambda x: (x-minv)/maxv).fillna(0)\n",
    "    sdf_t[col] = df_t[col].apply(lambda x: (x-minv)/maxv).fillna(0)\n",
    "    \n",
    "from sklearn.preprocessing import LabelEncoder\n",
    "    \n",
    "# string\n",
    "for col in [\n",
    "    'trafficSource.adwordsClickInfo.adNetworkType',\n",
    "    'trafficSource.adwordsClickInfo.page',\n",
    "    'channelGrouping',\n",
    "    'geoNetwork.region',\n",
    "    'geoNetwork.country',\n",
    "    'geoNetwork.metro',\n",
    "    'trafficSource.campaign',\n",
    "    'totals.bounces',\n",
    "    #'trafficSource.referralPath',\n",
    "    'device.deviceCategory',\n",
    "    'device.browser',\n",
    "    'trafficSource.adContent',\n",
    "    'trafficSource.medium',\n",
    "    'geoNetwork.city',\n",
    "    'trafficSource.source',\n",
    "    'trafficSource.adwordsClickInfo.slot',\n",
    "    'fullVisitorId',\n",
    "    'geoNetwork.subContinent',\n",
    "    'device.operatingSystem',\n",
    "    #'geoNetwork.networkDomain',\n",
    "    'trafficSource.adwordsClickInfo.gclId',\n",
    "#     'trafficSource.campaignCode', // not exist in test\n",
    "    'trafficSource.keyword',\n",
    "    'geoNetwork.continent']:\n",
    "    le = LabelEncoder()\n",
    "    le.fit(pd.concat([df[col].astype(str).fillna(''), df_t[col].astype(str).fillna('')]))\n",
    "    sdf[col] = le.transform(df[col].astype(str).fillna(''))\n",
    "    sdf_t[col] = le.transform(df_t[col].astype(str).fillna(''))\n",
    "\n",
    "sdf[\"date\"] = pd.to_datetime(df[\"date\"], format=\"%Y%m%d\")\n",
    "sdf[\"weekday\"] = sdf['date'].dt.weekday\n",
    "sdf[\"is_holiday\"] = sdf[\"weekday\"].apply(lambda x: 1 if x >= 5 else 0)\n",
    "sdf[\"day\"] = sdf['date'].dt.day\n",
    "sdf[\"month\"] = sdf['date'].dt.month\n",
    "sdf[\"year\"] = sdf['date'].dt.year\n",
    "sdf['visitHour'] = (sdf['visitStartTime'].apply(lambda x: str(datetime.fromtimestamp(x).hour))).astype(int)\n",
    "sdf = sdf.drop('date', 1)\n",
    "sdf_t[\"date\"] = pd.to_datetime(df_t[\"date\"], format=\"%Y%m%d\")\n",
    "sdf_t[\"weekday\"] = sdf_t['date'].dt.weekday\n",
    "sdf_t[\"is_holiday\"] = sdf_t[\"weekday\"].apply(lambda x: 1 if x >= 5 else 0)\n",
    "sdf_t[\"day\"] = sdf_t['date'].dt.day\n",
    "sdf_t[\"month\"] = sdf_t['date'].dt.month\n",
    "sdf_t[\"year\"] = sdf_t['date'].dt.year\n",
    "sdf_t['visitHour'] = (sdf_t['visitStartTime'].apply(lambda x: str(datetime.fromtimestamp(x).hour))).astype(int)\n",
    "sdf_t = sdf_t.drop('date', 1)"
   ]
  },
  {
   "cell_type": "code",
   "execution_count": null,
   "metadata": {},
   "outputs": [],
   "source": [
    "from sklearn.linear_model import SGDClassifier, LogisticRegression\n",
    "from sklearn import svm\n",
    "from sklearn.metrics import roc_curve, auc\n",
    "from matplotlib import pyplot as plt\n",
    "\n",
    "label = pd.to_numeric(df['totals.transactionRevenue'] >0)"
   ]
  },
  {
   "cell_type": "code",
   "execution_count": null,
   "metadata": {},
   "outputs": [],
   "source": [
    "import xgboost as xgb\n",
    "# from sklearn.grid_search import GridSearchCV\n",
    "\n",
    "clf_xgb = xgb.XGBClassifier(max_depth=6, n_jobs=8, objective='binary:logistic', reg_alpha=0.1)\n",
    "X_train, X_test, y_train, y_test = train_test_split(sdf, label, test_size=.2, random_state=10)"
   ]
  },
  {
   "cell_type": "code",
   "execution_count": null,
   "metadata": {},
   "outputs": [],
   "source": [
    "clf_xgb.fit(X_train, y_train)"
   ]
  },
  {
   "cell_type": "code",
   "execution_count": null,
   "metadata": {},
   "outputs": [],
   "source": [
    "pred = clf_xgb.predict_proba(X_test)\n",
    "cv = pd.DataFrame(pred[:,0])[df['totals.transactionRevenue'] >0][0]\n",
    "# cv\n",
    "non_cv = pd.DataFrame(pred[:,0])[df['totals.transactionRevenue'] == 0][0]\n",
    "plt.hist([cv, non_cv], stacked=['True'], color=['g', 'r'], log=True, bins=20)\n",
    "print('accuracy:', clf_xgb.score(X_test, y_test))\n",
    "\n",
    "from sklearn.metrics import confusion_matrix\n",
    "print(confusion_matrix(y_test, clf_xgb.predict(X_test)))\n",
    "print(pred.shape)\n",
    "print(clf_xgb.score)"
   ]
  },
  {
   "cell_type": "code",
   "execution_count": null,
   "metadata": {},
   "outputs": [],
   "source": [
    "from xgboost import plot_tree\n",
    "graph1 = xgb.to_graphviz(clf_xgb)\n",
    "graph1.format = 'png'\n",
    "graph1.render('data/tree')"
   ]
  },
  {
   "cell_type": "code",
   "execution_count": null,
   "metadata": {},
   "outputs": [],
   "source": [
    "proba = clf_xgb.predict_proba(sdf)[:,0]\n",
    "sdf_cv = sdf.copy()\n",
    "sdf_cv['cv_prob'] = proba\n",
    "revenue = np.log(df['totals.transactionRevenue'] +1)"
   ]
  },
  {
   "cell_type": "code",
   "execution_count": null,
   "metadata": {},
   "outputs": [],
   "source": [
    "from sklearn.metrics import mean_squared_error\n",
    "def RMSE(y_true, y_pred):\n",
    "    return np.sqrt(mean_squared_error(y_true, y_pred))"
   ]
  },
  {
   "cell_type": "code",
   "execution_count": null,
   "metadata": {},
   "outputs": [],
   "source": [
    "from sklearn.model_selection import learning_curve\n",
    "import matplotlib.pyplot as plt\n",
    "from sklearn import linear_model\n",
    "\n",
    "X_train, X_test, y_train, y_test = train_test_split(sdf_cv, revenue, test_size=.2, random_state=10)\n",
    "clf = linear_model.Lasso(alpha=0.0001)\n",
    "clf.fit(X_train, y_train)\n",
    "\n",
    "ddf = pd.DataFrame()\n",
    "ddf['feature'] = sdf_cv.columns\n",
    "ddf['coef'] = clf.coef_\n",
    "y_pred = clf.predict(X_test)\n",
    "print('RMSE:', RMSE(y_pred, y_test))\n",
    "ddf"
   ]
  },
  {
   "cell_type": "code",
   "execution_count": null,
   "metadata": {},
   "outputs": [],
   "source": [
    "sdf_t_cv = sdf_t.copy()\n",
    "sdf_t_cv['cv_prob'] = clf_xgb.predict_proba(sdf_t)[:,0]"
   ]
  },
  {
   "cell_type": "code",
   "execution_count": null,
   "metadata": {},
   "outputs": [],
   "source": [
    "print(sdf_t_cv.shape)\n",
    "pre = clf.predict(sdf_t_cv)\n",
    "print(pre.shape)\n",
    "# print('RMSE:', RMSE(revenue, pre))\n",
    "pd.DataFrame(pre).hist()"
   ]
  },
  {
   "cell_type": "code",
   "execution_count": null,
   "metadata": {},
   "outputs": [],
   "source": [
    "ans = pd.DataFrame()\n",
    "ans['fullVisitorId'] = df_t['fullVisitorId'].astype(str)\n",
    "ans['PredictedLogRevenue'] = pre\n",
    "ans = ans.groupby(\"fullVisitorId\")[\"PredictedLogRevenue\"].sum().reset_index()\n",
    "ans.columns = [\"fullVisitorId\", \"PredictedLogRevenue\"]\n",
    "# ans['PredictedLogRevenue'] = np.log(ans['PredictedLogRevenue'])\n",
    "ans.to_csv('data/xgb+lasso.csv', index=False)\n",
    "ans.hist(bins=50)\n",
    "print(ans.shape) "
   ]
  },
  {
   "cell_type": "code",
   "execution_count": null,
   "metadata": {},
   "outputs": [],
   "source": []
  }
 ],
 "metadata": {
  "kernelspec": {
   "display_name": "Python 3",
   "language": "python",
   "name": "python3"
  },
  "language_info": {
   "codemirror_mode": {
    "name": "ipython",
    "version": 3
   },
   "file_extension": ".py",
   "mimetype": "text/x-python",
   "name": "python",
   "nbconvert_exporter": "python",
   "pygments_lexer": "ipython3",
   "version": "3.6.2"
  }
 },
 "nbformat": 4,
 "nbformat_minor": 2
}
