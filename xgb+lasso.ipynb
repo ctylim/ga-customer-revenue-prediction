{
 "cells": [
  {
   "cell_type": "code",
   "execution_count": 1,
   "metadata": {},
   "outputs": [
    {
     "name": "stdout",
     "output_type": "stream",
     "text": [
      "column skipped (cardinality = 1): device.mobileDeviceInfo\n",
      "column skipped (cardinality = 1): device.browserVersion\n",
      "column skipped (cardinality = 1): totals.visits\n",
      "column skipped (cardinality = 1): geoNetwork.networkLocation\n",
      "column skipped (cardinality = 1): device.screenResolution\n",
      "column skipped (cardinality = 1): geoNetwork.longitude\n",
      "column skipped (cardinality = 1): geoNetwork.latitude\n",
      "column skipped (cardinality = 1): device.flashVersion\n",
      "column skipped (cardinality = 1): device.language\n",
      "column skipped (cardinality = 1): trafficSource.adwordsClickInfo.criteriaParameters\n",
      "column skipped (cardinality = 1): device.screenColors\n",
      "column skipped (cardinality = 1): device.mobileDeviceModel\n",
      "column skipped (cardinality = 1): socialEngagementType\n",
      "column skipped (cardinality = 1): device.operatingSystemVersion\n",
      "column skipped (cardinality = 1): device.mobileInputSelector\n",
      "column skipped (cardinality = 1): device.mobileDeviceBranding\n",
      "column skipped (cardinality = 1): geoNetwork.cityId\n",
      "column skipped (cardinality = 1): device.browserSize\n",
      "column skipped (cardinality = 1): device.mobileDeviceMarketingName\n"
     ]
    }
   ],
   "source": [
    "%matplotlib inline\n",
    "import warnings\n",
    "warnings.filterwarnings(action='ignore')\n",
    "import pandas as pd\n",
    "import numpy as np\n",
    "import tensorflow as tf\n",
    "import tensorflow.feature_column as fc \n",
    "import tensorflow.debugging as tfdbg\n",
    "from sklearn.model_selection import train_test_split\n",
    "\n",
    "df = pd.read_csv(\"data/train.flat.csv\", dtype={'fullVisitorId': 'str', 'visitId': 'str'})\n",
    "df_t = pd.read_csv(\"data/test.flat.csv\", dtype={'fullVisitorId': 'str', 'visitId': 'str'})\n",
    "for col in df.columns:\n",
    "#     print(col, df[col].fillna('').nunique())\n",
    "    if df[col].fillna('').nunique() == 1:\n",
    "        print(\"column skipped (cardinality = 1):\", col)\n",
    "        df = df.drop(col, axis=1)"
   ]
  },
  {
   "cell_type": "code",
   "execution_count": 2,
   "metadata": {
    "scrolled": true
   },
   "outputs": [
    {
     "data": {
      "text/plain": [
       "<matplotlib.axes._subplots.AxesSubplot at 0x10f56bba8>"
      ]
     },
     "execution_count": 2,
     "metadata": {},
     "output_type": "execute_result"
    },
    {
     "data": {
      "image/png": "[encoded data removed]",
      "text/plain": [
       "<Figure size 432x288 with 1 Axes>"
      ]
     },
     "metadata": {
      "needs_background": "light"
     },
     "output_type": "display_data"
    }
   ],
   "source": [
    "(np.log(df['totals.transactionRevenue'].dropna() +1)).hist()"
   ]
  },
  {
   "cell_type": "code",
   "execution_count": 3,
   "metadata": {},
   "outputs": [],
   "source": [
    "df['totals.transactionRevenue'] = df['totals.transactionRevenue'].fillna(0)"
   ]
  },
  {
   "cell_type": "code",
   "execution_count": 4,
   "metadata": {},
   "outputs": [],
   "source": [
    "sdf = pd.DataFrame()\n",
    "sdf_t = pd.DataFrame()\n",
    "features = []\n",
    "\n",
    "# boolean\n",
    "for col in ['trafficSource.isTrueDirect', 'trafficSource.adwordsClickInfo.isVideoAd', 'device.isMobile', 'totals.newVisits']:\n",
    "    sdf[col] = df[col].apply(lambda x: 2 if np.isnan(x) else int(x))\n",
    "    sdf_t[col] = df_t[col].apply(lambda x: 2 if np.isnan(x) else int(x))\n",
    "    features.append(fc.indicator_column(fc.categorical_column_with_vocabulary_list(col, (0,1,2))))\n",
    "        \n",
    "# numeric\n",
    "for col in ['visitNumber', 'visitStartTime', 'date', 'totals.hits', 'totals.pageviews']:\n",
    "    minv = df[col].min()\n",
    "    maxv = df[col].max()\n",
    "    sdf[col] = df[col].apply(lambda x: (x-minv)/maxv).fillna(0)\n",
    "    sdf_t[col] = df_t[col].apply(lambda x: (x-minv)/maxv).fillna(0)\n",
    "    features.append(fc.numeric_column(col))\n",
    "\n",
    "    \n",
    "from sklearn.preprocessing import LabelEncoder\n",
    "    \n",
    "# string\n",
    "for col in [\n",
    "    'trafficSource.adwordsClickInfo.adNetworkType',\n",
    "    'trafficSource.adwordsClickInfo.page',\n",
    "    'channelGrouping',\n",
    "    'geoNetwork.region',\n",
    "    'geoNetwork.country',\n",
    "    'geoNetwork.metro',\n",
    "    'trafficSource.campaign',\n",
    "    'totals.bounces',\n",
    "    #'trafficSource.referralPath',\n",
    "    'device.deviceCategory',\n",
    "    'device.browser',\n",
    "    'trafficSource.adContent',\n",
    "    'trafficSource.medium',\n",
    "    'geoNetwork.city',\n",
    "    'trafficSource.source',\n",
    "    'trafficSource.adwordsClickInfo.slot',\n",
    "    'fullVisitorId',\n",
    "    'geoNetwork.subContinent',\n",
    "    'device.operatingSystem',\n",
    "    #'geoNetwork.networkDomain',\n",
    "    'trafficSource.adwordsClickInfo.gclId',\n",
    "#     'trafficSource.campaignCode', // not exist in test\n",
    "    'trafficSource.keyword',\n",
    "    'geoNetwork.continent']:\n",
    "    le = LabelEncoder()\n",
    "    le.fit(pd.concat([df[col].astype(str).fillna(''), df_t[col].astype(str).fillna('')]))\n",
    "    sdf[col] = le.transform(df[col].astype(str).fillna(''))\n",
    "    sdf_t[col] = le.transform(df_t[col].astype(str).fillna(''))"
   ]
  },
  {
   "cell_type": "code",
   "execution_count": 5,
   "metadata": {},
   "outputs": [],
   "source": [
    "from sklearn.linear_model import SGDClassifier, LogisticRegression\n",
    "from sklearn import svm\n",
    "from sklearn.metrics import roc_curve, auc\n",
    "from matplotlib import pyplot as plt\n",
    "\n",
    "label = pd.to_numeric(df['totals.transactionRevenue'] >0)"
   ]
  },
  {
   "cell_type": "code",
   "execution_count": 38,
   "metadata": {},
   "outputs": [],
   "source": [
    "import xgboost as xgb\n",
    "# from sklearn.grid_search import GridSearchCV\n",
    "\n",
    "clf_xgb = xgb.XGBClassifier(max_depth=6, n_jobs=8, objective='binary:logistic', reg_alpha=2)\n",
    "X_train, X_test, y_train, y_test = train_test_split(sdf, label, test_size=.2, random_state=10)"
   ]
  },
  {
   "cell_type": "code",
   "execution_count": 39,
   "metadata": {},
   "outputs": [
    {
     "data": {
      "text/plain": [
       "XGBClassifier(base_score=0.5, booster='gbtree', colsample_bylevel=1,\n",
       "       colsample_bytree=1, gamma=0, learning_rate=0.1, max_delta_step=0,\n",
       "       max_depth=6, min_child_weight=1, missing=None, n_estimators=100,\n",
       "       n_jobs=8, nthread=None, objective='binary:logistic', random_state=0,\n",
       "       reg_alpha=2, reg_lambda=1, scale_pos_weight=1, seed=None,\n",
       "       silent=True, subsample=1)"
      ]
     },
     "execution_count": 39,
     "metadata": {},
     "output_type": "execute_result"
    }
   ],
   "source": [
    "clf_xgb.fit(X_train, y_train)"
   ]
  },
  {
   "cell_type": "code",
   "execution_count": 40,
   "metadata": {
    "scrolled": false
   },
   "outputs": [
    {
     "name": "stdout",
     "output_type": "stream",
     "text": [
      "accuracy: 0.9885077822841681\n",
      "[[178145    312]\n",
      " [  1765    509]]\n",
      "(180731, 2)\n",
      "<bound method ClassifierMixin.score of XGBClassifier(base_score=0.5, booster='gbtree', colsample_bylevel=1,\n",
      "       colsample_bytree=1, gamma=0, learning_rate=0.1, max_delta_step=0,\n",
      "       max_depth=6, min_child_weight=1, missing=None, n_estimators=100,\n",
      "       n_jobs=8, nthread=None, objective='binary:logistic', random_state=0,\n",
      "       reg_alpha=2, reg_lambda=1, scale_pos_weight=1, seed=None,\n",
      "       silent=True, subsample=1)>\n"
     ]
    },
    {
     "data": {
      "image/png": "[encoded data removed]",
      "text/plain": [
       "<Figure size 432x288 with 1 Axes>"
      ]
     },
     "metadata": {
      "needs_background": "light"
     },
     "output_type": "display_data"
    }
   ],
   "source": [
    "pred = clf_xgb.predict_proba(X_test)\n",
    "cv = pd.DataFrame(pred[:,0])[df['totals.transactionRevenue'] >0][0]\n",
    "# cv\n",
    "non_cv = pd.DataFrame(pred[:,0])[df['totals.transactionRevenue'] == 0][0]\n",
    "plt.hist([cv, non_cv], stacked=['True'], color=['g', 'r'], log=True, bins=20)\n",
    "print('accuracy:', clf_xgb.score(X_test, y_test))\n",
    "\n",
    "from sklearn.metrics import confusion_matrix\n",
    "print(confusion_matrix(y_test, clf_xgb.predict(X_test)))\n",
    "print(pred.shape)\n",
    "print(clf_xgb.score)"
   ]
  },
  {
   "cell_type": "code",
   "execution_count": 41,
   "metadata": {},
   "outputs": [
    {
     "data": {
      "text/plain": [
       "'data/tree.png'"
      ]
     },
     "execution_count": 41,
     "metadata": {},
     "output_type": "execute_result"
    }
   ],
   "source": [
    "from xgboost import plot_tree\n",
    "graph1 = xgb.to_graphviz(clf_xgb)\n",
    "graph1.format = 'png'\n",
    "graph1.render('data/tree')"
   ]
  },
  {
   "cell_type": "code",
   "execution_count": 42,
   "metadata": {
    "scrolled": false
   },
   "outputs": [],
   "source": [
    "proba = clf_xgb.predict_proba(sdf)[:,0]\n",
    "sdf_cv = sdf.copy()\n",
    "sdf_cv['cv_prob'] = proba\n",
    "revenue = np.log(df['totals.transactionRevenue'] +1)"
   ]
  },
  {
   "cell_type": "code",
   "execution_count": 43,
   "metadata": {},
   "outputs": [],
   "source": [
    "from sklearn.metrics import mean_squared_error\n",
    "def RMSE(y_true, y_pred):\n",
    "    return np.sqrt(mean_squared_error(y_true, y_pred))"
   ]
  },
  {
   "cell_type": "code",
   "execution_count": 50,
   "metadata": {
    "scrolled": false
   },
   "outputs": [
    {
     "name": "stdout",
     "output_type": "stream",
     "text": [
      "[ 3.18249436e-02  0.00000000e+00  1.32752080e-02  3.28560458e-03\n",
      " -0.00000000e+00 -0.00000000e+00 -0.00000000e+00 -1.01055464e+01\n",
      "  7.78948764e+00  0.00000000e+00  8.84318803e-03  1.80416860e-02\n",
      "  1.47627667e-05 -1.02543718e-04 -1.34297942e-04  1.83987962e-03\n",
      "  2.90011404e-04 -3.01256291e-03 -8.28952413e-05  1.03053353e-03\n",
      " -2.27565302e-02  1.36912932e-05  9.50580899e-06 -0.00000000e+00\n",
      " -1.73682828e-09  9.35410187e-05  2.11035494e-04 -9.08021739e-07\n",
      " -1.15823261e-05  7.54568381e-03 -2.01105805e+01]\n",
      "RMSE: 1.6109642765991907\n"
     ]
    }
   ],
   "source": [
    "from sklearn.model_selection import learning_curve\n",
    "import matplotlib.pyplot as plt\n",
    "from sklearn import linear_model\n",
    "\n",
    "X_train, X_test, y_train, y_test = train_test_split(sdf_cv, revenue, test_size=.2, random_state=10)\n",
    "clf = linear_model.Lasso(alpha=0.00005)\n",
    "clf.fit(X_train, y_train)\n",
    "print(clf.coef_) \n",
    "y_pred = clf.predict(X_test)\n",
    "print('RMSE:', RMSE(y_pred, y_test))"
   ]
  },
  {
   "cell_type": "code",
   "execution_count": 51,
   "metadata": {},
   "outputs": [],
   "source": [
    "sdf_t_cv = sdf_t.copy()\n",
    "sdf_t_cv['cv_prob'] = clf_xgb.predict_proba(sdf_t)[:,0]"
   ]
  },
  {
   "cell_type": "code",
   "execution_count": 52,
   "metadata": {},
   "outputs": [
    {
     "name": "stdout",
     "output_type": "stream",
     "text": [
      "(804684, 31)\n",
      "(804684,)\n"
     ]
    },
    {
     "data": {
      "text/plain": [
       "array([[<matplotlib.axes._subplots.AxesSubplot object at 0x131e09748>]],\n",
       "      dtype=object)"
      ]
     },
     "execution_count": 52,
     "metadata": {},
     "output_type": "execute_result"
    },
    {
     "data": {
      "image/png": "[encoded data removed]",
      "text/plain": [
       "<Figure size 432x288 with 1 Axes>"
      ]
     },
     "metadata": {
      "needs_background": "light"
     },
     "output_type": "display_data"
    }
   ],
   "source": [
    "print(sdf_t_cv.shape)\n",
    "pre = clf.predict(sdf_t_cv)\n",
    "print(pre.shape)\n",
    "# print('RMSE:', RMSE(revenue, pre))\n",
    "pd.DataFrame(pre).hist()"
   ]
  },
  {
   "cell_type": "code",
   "execution_count": 53,
   "metadata": {},
   "outputs": [
    {
     "name": "stdout",
     "output_type": "stream",
     "text": [
      "(617242, 2)\n"
     ]
    },
    {
     "data": {
      "image/png": "[encoded data removed]",
      "text/plain": [
       "<Figure size 432x288 with 1 Axes>"
      ]
     },
     "metadata": {
      "needs_background": "light"
     },
     "output_type": "display_data"
    }
   ],
   "source": [
    "ans = pd.DataFrame()\n",
    "ans['fullVisitorId'] = df_t['fullVisitorId'].astype(str)\n",
    "ans['PredictedLogRevenue'] = pre\n",
    "ans = ans.groupby(\"fullVisitorId\")[\"PredictedLogRevenue\"].sum().reset_index()\n",
    "ans.columns = [\"fullVisitorId\", \"PredictedLogRevenue\"]\n",
    "# ans['PredictedLogRevenue'] = np.log(ans['PredictedLogRevenue'])\n",
    "ans.to_csv('data/xgb+lasso.csv', index=False)\n",
    "ans.hist(bins=50)\n",
    "print(ans.shape) "
   ]
  },
  {
   "cell_type": "code",
   "execution_count": null,
   "metadata": {},
   "outputs": [],
   "source": []
  }
 ],
 "metadata": {
  "kernelspec": {
   "display_name": "Python 3",
   "language": "python",
   "name": "python3"
  },
  "language_info": {
   "codemirror_mode": {
    "name": "ipython",
    "version": 3
   },
   "file_extension": ".py",
   "mimetype": "text/x-python",
   "name": "python",
   "nbconvert_exporter": "python",
   "pygments_lexer": "ipython3",
   "version": "3.6.0"
  }
 },
 "nbformat": 4,
 "nbformat_minor": 2
}
